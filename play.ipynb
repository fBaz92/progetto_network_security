{
 "cells": [
  {
   "cell_type": "code",
   "execution_count": 9,
   "metadata": {},
   "outputs": [
    {
     "name": "stdout",
     "output_type": "stream",
     "text": [
      "False\n",
      "True\n"
     ]
    }
   ],
   "source": [
    "import random\n",
    "\n",
    "def miller_rabin_test(n, k=10):\n",
    "    \"\"\"\n",
    "    Test di Miller-Rabin per la determinazione della primalità.\n",
    "    \n",
    "    :param n: Il numero da testare.\n",
    "    :param k: Il numero di iterazioni del test. Maggiore è il numero, maggiore è l'affidabilità del risultato.\n",
    "    :return: True se n è probabilmente primo, False se n è composto.\n",
    "    \"\"\"\n",
    "    \n",
    "    # Caso base\n",
    "    if n <= 1:\n",
    "        return False\n",
    "    if n <= 3:\n",
    "        return True\n",
    "    if n % 2 == 0:\n",
    "        return False\n",
    "\n",
    "    # Scrivi n-1 come 2^s * d con d dispari\n",
    "    s = 0\n",
    "    d = n - 1\n",
    "    while d % 2 == 0:\n",
    "        d //= 2\n",
    "        s += 1\n",
    "\n",
    "    def is_composite(a):\n",
    "        \"\"\"\n",
    "        Verifica se a è un testimone che n è composto.\n",
    "        \"\"\"\n",
    "        x = pow(a, d, n)\n",
    "        if x == 1 or x == n - 1:\n",
    "            return False\n",
    "        for _ in range(s - 1):\n",
    "            x = pow(x, 2, n)\n",
    "            if x == n - 1:\n",
    "                return False\n",
    "        return True\n",
    "\n",
    "    for _ in range(k):\n",
    "        a = random.randint(2, n - 2)\n",
    "        if is_composite(a):\n",
    "            return False\n",
    "\n",
    "    return True\n",
    "\n",
    "# Esempi di utilizzo\n",
    "n = 561  # Un numero di Carmichael, che inganna il test di Fermat\n",
    "print(miller_rabin_test(n))  # Dovrebbe restituire False\n",
    "\n",
    "n = 104729  # Un numero primo\n",
    "print(miller_rabin_test(n))  # Dovrebbe restituire True"
   ]
  },
  {
   "cell_type": "code",
   "execution_count": 10,
   "metadata": {},
   "outputs": [
    {
     "name": "stderr",
     "output_type": "stream",
     "text": [
      "100%|██████████| 9961472/9961472 [01:36<00:00, 103682.52it/s]\n"
     ]
    }
   ],
   "source": [
    "from tqdm import tqdm\n",
    "\n",
    "n0 = 1e21\n",
    "n1 = n0 + 1e7\n",
    "\n",
    "primes = []\n",
    "\n",
    "for n in tqdm(range(int(n0), int(n1))):\n",
    "    if miller_rabin_test(n):\n",
    "        #print(n)\n",
    "        primes.append(n)"
   ]
  },
  {
   "cell_type": "code",
   "execution_count": 11,
   "metadata": {},
   "outputs": [
    {
     "data": {
      "text/plain": [
       "206074"
      ]
     },
     "execution_count": 11,
     "metadata": {},
     "output_type": "execute_result"
    }
   ],
   "source": [
    "len(primes)"
   ]
  },
  {
   "cell_type": "code",
   "execution_count": 12,
   "metadata": {},
   "outputs": [
    {
     "data": {
      "text/plain": [
       "[1000000000000000000117,\n",
       " 1000000000000000000193,\n",
       " 1000000000000000000213,\n",
       " 1000000000000000000217,\n",
       " 1000000000000000000289,\n",
       " 1000000000000000000327,\n",
       " 1000000000000000000367,\n",
       " 1000000000000000000373,\n",
       " 1000000000000000000399,\n",
       " 1000000000000000000409]"
      ]
     },
     "execution_count": 12,
     "metadata": {},
     "output_type": "execute_result"
    }
   ],
   "source": [
    "primes[:10]"
   ]
  },
  {
   "cell_type": "code",
   "execution_count": null,
   "metadata": {},
   "outputs": [],
   "source": []
  }
 ],
 "metadata": {
  "kernelspec": {
   "display_name": "intelligenza_visuale",
   "language": "python",
   "name": "python3"
  },
  "language_info": {
   "codemirror_mode": {
    "name": "ipython",
    "version": 3
   },
   "file_extension": ".py",
   "mimetype": "text/x-python",
   "name": "python",
   "nbconvert_exporter": "python",
   "pygments_lexer": "ipython3",
   "version": "3.8.18"
  }
 },
 "nbformat": 4,
 "nbformat_minor": 2
}
